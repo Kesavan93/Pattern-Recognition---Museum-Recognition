{
 "cells": [
  {
   "cell_type": "code",
   "execution_count": 1,
   "metadata": {
    "collapsed": true
   },
   "outputs": [],
   "source": [
    "# Import necessary libraries\n",
    "import pandas as pd\n",
    "import numpy as np\n",
    "from skimage import io \n",
    "from matplotlib import pyplot as plt"
   ]
  },
  {
   "cell_type": "code",
   "execution_count": 3,
   "metadata": {},
   "outputs": [
    {
     "name": "stdout",
     "output_type": "stream",
     "text": [
      " Volume in drive C is Windows\n",
      " Volume Serial Number is 3C74-3FF0\n",
      "\n",
      " Directory of C:\\Users\\Kesavan\\Desktop\\Desktop 2\\Pattern Collection\n",
      "\n",
      "12/02/2018  06:47 PM    <DIR>          .\n",
      "12/02/2018  06:47 PM    <DIR>          ..\n",
      "12/02/2018  06:47 PM    <DIR>          .ipynb_checkpoints\n",
      "06/02/2018  03:18 AM         2,631,257 31.png\n",
      "10/02/2018  09:22 PM             1,644 CreateExamples.ipynb\n",
      "11/02/2018  07:57 PM    <DIR>          Test\n",
      "11/02/2018  11:27 PM    <DIR>          Test2\n",
      "11/02/2018  11:38 PM             1,843 Testing Bro 2.ipynb\n",
      "12/02/2018  09:33 AM             1,346 Testing Bro.ipynb\n",
      "12/02/2018  06:47 PM                72 Testing.ipynb\n",
      "11/02/2018  08:02 PM    <DIR>          Train\n",
      "12/02/2018  06:32 PM        28,650,189 train.txt\n",
      "11/02/2018  11:25 PM    <DIR>          Train2\n",
      "12/02/2018  06:47 PM            14,648 Training.ipynb\n",
      "12/02/2018  06:31 PM               320 y.npy\n",
      "               8 File(s)     31,301,319 bytes\n",
      "               7 Dir(s)  316,596,244,480 bytes free\n"
     ]
    }
   ],
   "source": [
    "ls"
   ]
  },
  {
   "cell_type": "code",
   "execution_count": 4,
   "metadata": {},
   "outputs": [
    {
     "name": "stdout",
     "output_type": "stream",
     "text": [
      " Volume in drive C is Windows\n",
      " Volume Serial Number is 3C74-3FF0\n",
      "\n",
      " Directory of C:\\Users\\Kesavan\\Desktop\\Desktop 2\\Pattern Collection\n",
      "\n"
     ]
    },
    {
     "name": "stderr",
     "output_type": "stream",
     "text": [
      "File Not Found\n"
     ]
    }
   ],
   "source": [
    "ls data"
   ]
  },
  {
   "cell_type": "code",
   "execution_count": 5,
   "metadata": {
    "collapsed": true
   },
   "outputs": [],
   "source": [
    "import os\n",
    "test_directory=\"Test2/\""
   ]
  },
  {
   "cell_type": "code",
   "execution_count": 6,
   "metadata": {},
   "outputs": [
    {
     "data": {
      "text/plain": [
       "['Test2/class1.0.png',\n",
       " 'Test2/class1.1.png',\n",
       " 'Test2/class1.2.png',\n",
       " 'Test2/class1.3.png',\n",
       " 'Test2/class1.4.png',\n",
       " 'Test2/class1.5.png',\n",
       " 'Test2/class1.6.png',\n",
       " 'Test2/class1.7.png',\n",
       " 'Test2/class1.8.png',\n",
       " 'Test2/class1.9.png',\n",
       " 'Test2/class2.0.png',\n",
       " 'Test2/class2.1.png',\n",
       " 'Test2/class2.2.png',\n",
       " 'Test2/class2.3.png',\n",
       " 'Test2/class2.4.png',\n",
       " 'Test2/class2.5.png',\n",
       " 'Test2/class2.6.png',\n",
       " 'Test2/class2.7.png',\n",
       " 'Test2/class2.8.png',\n",
       " 'Test2/class2.9.png',\n",
       " 'Test2/class3.0.png',\n",
       " 'Test2/class3.1.png',\n",
       " 'Test2/class3.2.png',\n",
       " 'Test2/class3.3.png',\n",
       " 'Test2/class3.4.png',\n",
       " 'Test2/class3.5.png',\n",
       " 'Test2/class3.6.png',\n",
       " 'Test2/class3.7.png',\n",
       " 'Test2/class3.8.png',\n",
       " 'Test2/class3.9.png']"
      ]
     },
     "execution_count": 6,
     "metadata": {},
     "output_type": "execute_result"
    }
   ],
   "source": [
    "def images2(image_directory):\n",
    "    return [image_directory+image for image in os.listdir(image_directory)]\n",
    "\n",
    "images2(test_directory)"
   ]
  },
  {
   "cell_type": "code",
   "execution_count": 7,
   "metadata": {
    "collapsed": true
   },
   "outputs": [],
   "source": [
    "##In training directory, image filename indicates image label as cat or dog: Need to extract labels\n",
    "## Extracting training image labels\n",
    "test_image_names = images2(test_directory)"
   ]
  },
  {
   "cell_type": "code",
   "execution_count": null,
   "metadata": {
    "collapsed": true
   },
   "outputs": [],
   "source": [
    "# Function to extract labels\n",
    "def extract_labels(file_names):\n",
    "    '''Create labels from file names: class1 = 0 and class2 = 1   and class3 = 2 '''\n",
    "    \n",
    "    # Create empty vector of length = no. of files, filled with zeros \n",
    "    n = len(file_names)\n",
    "    y_test[] = np.zeros(n, dtype = np.int32)\n",
    "    # Enumerate gives index\n",
    "    for i, filename in enumerate(file_names):\n",
    "           \n",
    "        # If 'cat' string is in file name assign '0'\n",
    "        if 'class1' in str(filename):\n",
    "            y_test[i] = 0\n",
    "        elif 'class2' in str(filename):\n",
    "            y_test[i]= 1        \n",
    "        else:\n",
    "            y_test[i] = 2\n",
    "    return y_test\n",
    "\n",
    "extract_labels(test_image_names)"
   ]
  }
 ],
 "metadata": {
  "kernelspec": {
   "display_name": "Python 3",
   "language": "python",
   "name": "python3"
  },
  "language_info": {
   "codemirror_mode": {
    "name": "ipython",
    "version": 3
   },
   "file_extension": ".py",
   "mimetype": "text/x-python",
   "name": "python",
   "nbconvert_exporter": "python",
   "pygments_lexer": "ipython3",
   "version": "3.6.3"
  }
 },
 "nbformat": 4,
 "nbformat_minor": 2
}
